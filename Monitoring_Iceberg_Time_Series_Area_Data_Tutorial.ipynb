{
  "nbformat": 4,
  "nbformat_minor": 0,
  "metadata": {
    "colab": {
      "name": "Monitoring Iceberg Time Series Area Data Tutorial.ipynb",
      "private_outputs": true,
      "provenance": [],
      "collapsed_sections": [
        "n9P5ldx7YvD7",
        "cAm83tu3ZAvr",
        "OVoLzhYEZWwl",
        "msumRjsSa-ba",
        "ThDQlAUFg3SJ",
        "90iy-X7bhHiR"
      ]
    },
    "kernelspec": {
      "name": "python3",
      "display_name": "Python 3"
    },
    "language_info": {
      "name": "python"
    }
  },
  "cells": [
    {
      "cell_type": "markdown",
      "source": [
        "[![Open In Colab](https://colab.research.google.com/assets/colab-badge.svg)](https://colab.research.google.com/github/jieenny/GoogleEarthEngine-for-Remote-sensing/blob/main/Monitoring_Iceberg_Time_Series_Area_Data_Tutorial.ipynb)"
      ],
      "metadata": {
        "id": "fGGAC6-0K_0L"
      }
    },
    {
      "cell_type": "markdown",
      "source": [
        "\n",
        "\n",
        "\n",
        "\n",
        "---------------------------\n",
        "\n",
        "\n",
        "\n",
        "\n",
        "## **Monitoring Iceberg Time Series Area Data Tutorial** \n",
        "## **빙하 면적 변화 시계열 그래프 분석 튜토리얼** \n",
        "\n",
        "\n",
        "----------------------------\n",
        "\n",
        "\n",
        "\n",
        "> In this tutorial I used iceberg 'A77'\n",
        "\n",
        "\n",
        "> This tutorial is divided into three parts\n",
        " * **Part1:** A77 Iceberg area detection   (original link: https://colab.research.google.com/drive/1fcTuR9vMlq6WMHX_oABNqV-8X4MpHBOh)\n",
        " * **Part2:** A77 Iceberg Time Series Area Data Exporting and Pre-processing\n",
        " * **Part3:** Monitoring Time Series Area Graph\n",
        " \n",
        "\n",
        "\n",
        "\n",
        "\n",
        "\n",
        "\n",
        "\n",
        "\n",
        "\n"
      ],
      "metadata": {
        "id": "WXkVQEi7Icu4"
      }
    },
    {
      "cell_type": "markdown",
      "source": [
        "# **Part1: A77 iceberg area detection**"
      ],
      "metadata": {
        "id": "n77CUi5AYMkz"
      }
    },
    {
      "cell_type": "markdown",
      "source": [
        "\n",
        "\n",
        "#### 1) 필요한 패키지 설치\n",
        "\n",
        "\n"
      ],
      "metadata": {
        "id": "n9P5ldx7YvD7"
      }
    },
    {
      "cell_type": "code",
      "execution_count": null,
      "metadata": {
        "id": "uTW09xJiq9-T"
      },
      "outputs": [],
      "source": [
        "# Google Earth Engine (GEE) 패키지 가져오기\n",
        "import ee\n",
        "\n",
        "ee.Authenticate()\n",
        "ee.Initialize()"
      ]
    },
    {
      "cell_type": "code",
      "source": [
        "# 필요한 python 패키지 가져오기\n",
        "import pandas as pd\n",
        "import altair as alt"
      ],
      "metadata": {
        "id": "hk3rX-AtrGnz"
      },
      "execution_count": null,
      "outputs": []
    },
    {
      "cell_type": "markdown",
      "source": [
        "#### 2) 원하는 ImageCollection 및 roi 가져온 후 이미지 시각화"
      ],
      "metadata": {
        "id": "cAm83tu3ZAvr"
      }
    },
    {
      "cell_type": "code",
      "source": [
        "# shapefile (.shp)을 이용하여 roi (region of interest) 설정하기\n",
        "shp = ee.FeatureCollection('projects/ee-jieun/assets/A77') # check\n",
        "coor = shp.geometry().getInfo()['coordinates']\n",
        "roi = ee.Geometry.Polygon(coor)\n",
        "\n",
        "# 날짜 설정하기\n",
        "start = ee.Date('2021-08-01')\n",
        "end = ee.Date('2021-08-08') \n",
        "\n",
        "# Sentinel-1 SAR 이미지 가져오기\n",
        "image = (ee.ImageCollection('COPERNICUS/S1_GRD')\n",
        "    .filterDate(start, end)\n",
        "    .filterBounds(roi)\n",
        "    .filter(ee.Filter.listContains('transmitterReceiverPolarisation', 'HH'))\n",
        "    .select('HH')\n",
        "    .mean()\n",
        "    .clip(roi))"
      ],
      "metadata": {
        "id": "kO3NC_z9rZw-"
      },
      "execution_count": null,
      "outputs": []
    },
    {
      "cell_type": "code",
      "source": [
        "# Sentinel-1 SAR 이미지 시각화하기 \n",
        "# Import the Folium library.\n",
        "import folium\n",
        "\n",
        "# Define a method for displaying Earth Engine image titles to folium ma\n",
        "def add_ee_layer(self, ee_image_object, vis_params, name):\n",
        "    map_id_dict = ee.Image(ee_image_object).getMapId(vis_params)\n",
        "    folium.raster_layers.TileLayer(\n",
        "        tiles = map_id_dict['tile_fetcher'].url_format,\n",
        "        attr = 'Mapbox attribution',\n",
        "        name = name,\n",
        "        overlay = True,\n",
        "        control = True \n",
        "    ).add_to(self)\n",
        "\n",
        "# Add EE drawing method to folium.\n",
        "folium.Map.add_ee_layer = add_ee_layer\n",
        "\n",
        "# Create a folium map object.\n",
        "map = folium.Map(location=[-70.6108, -9.4135], zoom_start = 8)\n",
        "\n",
        "# Add the layer to the map object.\n",
        "map.add_ee_layer(image, {'min': [-22], 'max': [2]}, 'HH')\n",
        "\n",
        "# Add a layer control panel to the map\n",
        "map.add_child(folium.LayerControl())\n",
        "\n",
        "# Display the map.\n",
        "display(map)"
      ],
      "metadata": {
        "id": "VHrnynxW0tmL"
      },
      "execution_count": null,
      "outputs": []
    },
    {
      "cell_type": "markdown",
      "source": [
        "#### 3) 빙하와 해양 구별한 후 빙하 면적 구하기"
      ],
      "metadata": {
        "id": "OVoLzhYEZWwl"
      }
    },
    {
      "cell_type": "code",
      "source": [
        "# HH 값의 히스토그램 그리기\n",
        "reduce_image = image.clipToBoundsAndScale(geometry=roi, scale=70)\n",
        "histogram = reduce_image.reduceRegion(ee.Reducer.histogram(), roi)\n",
        "x = ee.Array(ee.Dictionary(histogram.get('HH')).get('bucketMeans')).getInfo()\n",
        "y = ee.Array(ee.Dictionary(histogram.get('HH')).get('histogram')).getInfo()\n",
        "\n",
        "xy = pd.DataFrame({'HH': x, 'Number of pixels': y})\n",
        "alt.Chart(xy).mark_bar().encode(x='HH', y='Number of pixels')"
      ],
      "metadata": {
        "id": "FKRdaH9h1z6f"
      },
      "execution_count": null,
      "outputs": []
    },
    {
      "cell_type": "code",
      "source": [
        "# 빙하 (glacier)와 해양을 구별한 후 시각화하기\n",
        "disc = -7     # 빙하 구분 기준값\n",
        "image_mask = image.gt(disc) \n",
        "\n",
        "# Import the Folium library.\n",
        "import folium\n",
        "\n",
        "# Define a method for displaying Earth Engine image titles to folium map.\n",
        "def add_ee_layer(self, ee_image_object, vis_params, name):\n",
        "    map_id_dict = ee.Image(ee_image_object).getMapId(vis_params)\n",
        "    folium.raster_layers.TileLayer(\n",
        "        tiles = map_id_dict['tile_fetcher'].url_format,\n",
        "        attr = 'Mapbox attribution',\n",
        "        name = name,\n",
        "        overlay = True,\n",
        "        control = True \n",
        "    ).add_to(self)\n",
        "\n",
        "# Add EE drawing method to folium.\n",
        "folium.Map.add_ee_layer = add_ee_layer\n",
        "\n",
        "# Create a folium map object.\n",
        "map = folium.Map(location=[-70.6108, -9.4135], zoom_start = 9)\n",
        "\n",
        "# Add the layer to the map object.\n",
        "map.add_ee_layer(image_mask, {'min': [0], 'max': [1]}, 'HH')\n",
        "\n",
        "# Add a layer control panel to the map\n",
        "map.add_child(folium.LayerControl())\n",
        "\n",
        "# Display the map.\n",
        "display(map)"
      ],
      "metadata": {
        "id": "umgPJENw25jg"
      },
      "execution_count": null,
      "outputs": []
    },
    {
      "cell_type": "code",
      "source": [
        "# 빙하 (glacier) 면적 계산하기\n",
        "Area = ee.Image.pixelArea()\n",
        "pixelArea = image_mask.multiply(Area).rename('Area')\n",
        "sumArea = int(round(pixelArea.reduceRegion(reducer=ee.Reducer.sum(), geometry=roi, scale=200).get('Area').getInfo())/10**6) # m^2 -> km^2\n",
        "\n",
        "sumArea"
      ],
      "metadata": {
        "id": "y2bmD_8W3Tqk"
      },
      "execution_count": null,
      "outputs": []
    },
    {
      "cell_type": "markdown",
      "source": [
        "# **Part2: A77 iceberg Time Series area data exporting and pre-processing**"
      ],
      "metadata": {
        "id": "B7F9WAfc_Ndp"
      }
    },
    {
      "cell_type": "markdown",
      "source": [
        "#### 1) 원하는 roi의 ImageCollection 불러오기\n",
        "\n"
      ],
      "metadata": {
        "id": "msumRjsSa-ba"
      }
    },
    {
      "cell_type": "markdown",
      "source": [
        "> 온전한 빙하 면적을 담고 있는 이미지의 pass number로 필터링    \n",
        "ASF data의 S1_GRD pass number에 해당하는 property: \n",
        " * *relativeOrbitNumber_start*:\t(DOUBLE)\tRelative orbit number of the oldest line within the image data.\n"
      ],
      "metadata": {
        "id": "5wh0NrARq7fQ"
      }
    },
    {
      "cell_type": "code",
      "source": [
        "# roi (region of interest) 설정하기\n",
        "shp = ee.FeatureCollection('projects/ee-jieun/assets/A77') # check\n",
        "coor = shp.geometry().getInfo()['coordinates']\n",
        "roi = ee.Geometry.Polygon(coor)\n",
        "\n",
        "# 날짜 설정하기\n",
        "start = ee.Date('2021-01-01')\n",
        "end = ee.Date('2022-08-01') \n",
        "\n",
        "# Sentinel-1 SAR 이미지 가져오기\n",
        "Images = (ee.ImageCollection('COPERNICUS/S1_GRD')\n",
        "    .filterDate(start, end)\n",
        "    .filterBounds(roi)\n",
        "    .filter(ee.Filter.listContains('transmitterReceiverPolarisation', 'HH'))\n",
        "    .filter(ee.Filter.eq('relativeOrbitNumber_stop', 75))             # A77 iceberg의 경우\n",
        "    .select('HH')\n",
        ")"
      ],
      "metadata": {
        "id": "rQxvkrSmAKO_"
      },
      "execution_count": null,
      "outputs": []
    },
    {
      "cell_type": "markdown",
      "source": [
        "#### 2) Reducing 함수 구현 후 Data Export\n",
        "time series 각 이미지에서 빙하 면적 계산"
      ],
      "metadata": {
        "id": "ThDQlAUFg3SJ"
      }
    },
    {
      "cell_type": "code",
      "source": [
        "# 이미지에 마스크 씌워 새로운 이미지 pixelArea 반환하는 함수 작성\n",
        "disc = -7   # 빙하 구분 기준값 설정\n",
        "def to_pixelArea(image):\n",
        "  image_mask = image.gt(disc)\n",
        "  Area = ee.Image.pixelArea()\n",
        "  pixelArea = image_mask.multiply(Area).rename('Area')\n",
        "  return pixelArea.set({'system:time_start': image.get('system:time_start')})"
      ],
      "metadata": {
        "id": "GXZY7-s-0b36"
      },
      "execution_count": null,
      "outputs": []
    },
    {
      "cell_type": "code",
      "source": [
        "# Image에 mapping할 reduce 함수 작성\n",
        "def create_reduce_region_function(geometry,\n",
        "                                  reducer=ee.Reducer.sum(),\n",
        "                                  scale=200,\n",
        "                                  crs='EPSG:4326',\n",
        "                                  bestEffort=True,\n",
        "                                  maxPixels=1e13,\n",
        "                                  tileScale=4):\n",
        "  def reduce_region_function(pixelArea):  \n",
        "    stat = pixelArea.select('Area').reduceRegion(\n",
        "        reducer=reducer,\n",
        "        geometry=geometry,\n",
        "        scale=scale,\n",
        "        crs=crs,\n",
        "        bestEffort=bestEffort,\n",
        "        maxPixels=maxPixels,\n",
        "        tileScale=tileScale)\n",
        "\n",
        "    return ee.Feature(geometry, stat).set({'millis': pixelArea.date().millis()}) \n",
        "  return reduce_region_function"
      ],
      "metadata": {
        "id": "AzzNZbUCGY-e"
      },
      "execution_count": null,
      "outputs": []
    },
    {
      "cell_type": "code",
      "source": [
        "# reducer 객체 생성\n",
        "reduce_Images = create_reduce_region_function(\n",
        "    geometry=roi, reducer=ee.Reducer.sum(), scale=200, crs='EPSG:4326')"
      ],
      "metadata": {
        "id": "iL0sLO9LGiP-"
      },
      "execution_count": null,
      "outputs": []
    },
    {
      "cell_type": "code",
      "source": [
        "# mask 씌운 imageCollection 생성\n",
        "Images_mask = Images.map(to_pixelArea)\n",
        "type(Images_mask)"
      ],
      "metadata": {
        "id": "cQ1VtwEX0307"
      },
      "execution_count": null,
      "outputs": []
    },
    {
      "cell_type": "code",
      "source": [
        "# mask 씌운 이미지를 reduce하여 빙하 면적을 계산한 FeatureCollection 생성\n",
        "stat_fc = ee.FeatureCollection(Images_mask.map(reduce_Images))"
      ],
      "metadata": {
        "id": "3mAW26J1HL5e"
      },
      "execution_count": null,
      "outputs": []
    },
    {
      "cell_type": "code",
      "source": [
        "# Export 함\n",
        "task = ee.batch.Export.table.toAsset(\n",
        "    collection=stat_fc,\n",
        "    description='stat_fc export',\n",
        "    #assetId='projects/ee-jieun/assets/stat_fc-6')     # check and run\n",
        "\n",
        "task.start()"
      ],
      "metadata": {
        "id": "Rx-IMvZRHeCF"
      },
      "execution_count": null,
      "outputs": []
    },
    {
      "cell_type": "code",
      "source": [
        "# 진행상황 확인\n",
        "task.status()   # completed: 완료"
      ],
      "metadata": {
        "id": "Pz2CeRHQJROE"
      },
      "execution_count": null,
      "outputs": []
    },
    {
      "cell_type": "markdown",
      "source": [
        "#### 3) Data 로드 후 dataframe 생성"
      ],
      "metadata": {
        "id": "90iy-X7bhHiR"
      }
    },
    {
      "cell_type": "code",
      "source": [
        "# 로드\n",
        "#stat_fc = ee.FeatureCollection('projects/ee-jieun/assets/stat_fc-6')     # check and run"
      ],
      "metadata": {
        "id": "ywE-w6JWHvyW"
      },
      "execution_count": null,
      "outputs": []
    },
    {
      "cell_type": "code",
      "source": [
        "# Define a function to transfer feature properties to a dictionary.\n",
        "def fc_to_dict(fc):\n",
        "  prop_names = fc.first().propertyNames()\n",
        "  prop_lists = fc.reduceColumns(\n",
        "      reducer=ee.Reducer.toList().repeat(prop_names.size()),\n",
        "      selectors=prop_names).get('list')\n",
        "\n",
        "  return ee.Dictionary.fromLists(prop_names, prop_lists)"
      ],
      "metadata": {
        "id": "2rBbtIGqGrzB"
      },
      "execution_count": null,
      "outputs": []
    },
    {
      "cell_type": "code",
      "source": [
        "# feature properties를 dictionary로 변환\n",
        "images_dict = fc_to_dict(stat_fc).getInfo()"
      ],
      "metadata": {
        "id": "Jj2QIVd7HUDe"
      },
      "execution_count": null,
      "outputs": []
    },
    {
      "cell_type": "code",
      "source": [
        "# dictionary 정보 확인\n",
        "print(type(images_dict), '\\n')\n",
        "for prop in images_dict.keys():\n",
        "    print(prop + ':', images_dict[prop][0:3] + ['...'])"
      ],
      "metadata": {
        "id": "IRoJUejkLxU_"
      },
      "execution_count": null,
      "outputs": []
    },
    {
      "cell_type": "code",
      "source": [
        "# dataframe으로 변환; images_df\n",
        "images_df = pd.DataFrame(images_dict)"
      ],
      "metadata": {
        "id": "VDi8QW-WL20z"
      },
      "execution_count": null,
      "outputs": []
    },
    {
      "cell_type": "code",
      "source": [
        "# 'Area' 면적 단위 변환 m^2 -> km^2\n",
        "import numpy as np\n",
        "images_df['Area'] = (np.array(images_dict['Area']) / 10**6).astype(int)\n",
        "display(images_df)\n",
        "print(images_df.dtypes)"
      ],
      "metadata": {
        "id": "WY_5BaBRBuGg"
      },
      "execution_count": null,
      "outputs": []
    },
    {
      "cell_type": "code",
      "source": [
        "# DataFrame에 날짜 변수 생성\n",
        "def add_date_info(df):\n",
        "  df['Timestamp'] = pd.to_datetime(df['millis'], unit='ms')\n",
        "  df['Year'] = pd.DatetimeIndex(df['Timestamp']).year\n",
        "  df['Month'] = pd.DatetimeIndex(df['Timestamp']).month\n",
        "  df['Day'] = pd.DatetimeIndex(df['Timestamp']).day\n",
        "  df['DOY'] = pd.DatetimeIndex(df['Timestamp']).dayofyear\n",
        "  return df\n",
        "\n",
        "images_df = add_date_info(images_df)\n",
        "images_df.head(10)\n"
      ],
      "metadata": {
        "id": "9GqihrHVMFJY"
      },
      "execution_count": null,
      "outputs": []
    },
    {
      "cell_type": "markdown",
      "source": [
        "\n",
        "\n",
        "*   12일 간격으로 데이터 있음\n",
        "\n"
      ],
      "metadata": {
        "id": "PDylrn-h1Kdb"
      }
    },
    {
      "cell_type": "code",
      "source": [
        "# 데이터 정제; images_df_cln에 저장\n",
        "images_df_cln = images_df.drop(['millis', 'system:index'], axis=1)\n",
        "images_df_cln.sort_values(['Year','DOY'], inplace=True)\n",
        "images_df_cln.reset_index(inplace=True)\n",
        "images_df_cln.columns = ['index', 'sumArea', 'Timestamp', 'Year', 'Month', 'Day', 'DOY']  #index는 원데이터를 불러올 때 사용할 것이므로 남겨둔다\n",
        "# 확인\n",
        "images_df_cln.head(10)"
      ],
      "metadata": {
        "id": "bjx3vXnhDoj_"
      },
      "execution_count": null,
      "outputs": []
    },
    {
      "cell_type": "code",
      "source": [
        "images_df_cln.tail(10)"
      ],
      "metadata": {
        "id": "eyI1glO4E0FW"
      },
      "execution_count": null,
      "outputs": []
    },
    {
      "cell_type": "markdown",
      "source": [
        "\n",
        "\n",
        "*   시간 순으로 정렬하면 2021년은 6일 간격으로, 2022년은 12일 간격으로 데이터 존재\n",
        "\n",
        "*   *images_df_cln*: 시계열 분석을 위한 최종 데이터셋 완성"
      ],
      "metadata": {
        "id": "F9Op-nEq1RCz"
      }
    },
    {
      "cell_type": "markdown",
      "source": [
        "\n",
        "\n",
        "---\n",
        "\n",
        "\n",
        "\n",
        "\n",
        "\n"
      ],
      "metadata": {
        "id": "lGWtf9q8htEK"
      }
    },
    {
      "cell_type": "markdown",
      "source": [
        "# **Part3: Monitoring Time Series area graph**"
      ],
      "metadata": {
        "id": "zjBgFaNkhPuQ"
      }
    },
    {
      "cell_type": "markdown",
      "source": [
        "\n",
        "\n",
        "#### 1) 시간에 따른 빙하 면적 그래프 그리기\n"
      ],
      "metadata": {
        "id": "5__qssfjhVtR"
      }
    },
    {
      "cell_type": "code",
      "source": [
        "# line graph\n",
        "iceberg_name = 'A77'\n",
        "ts = pd.DataFrame({'date': images_df_cln['Timestamp'], 'sumArea': images_df_cln['sumArea']})\n",
        "alt.Chart(ts, width=1000).mark_line().encode(x='date', y='sumArea').properties(title='시간에 따른 '+iceberg_name +' 빙하 면적 그래프')"
      ],
      "metadata": {
        "id": "S4ho0tkiMR2e"
      },
      "execution_count": null,
      "outputs": []
    },
    {
      "cell_type": "code",
      "source": [
        "# area graph\n",
        "iceberg_name = 'A77'\n",
        "ts = pd.DataFrame({'date': images_df_cln['Timestamp'], 'sumArea': images_df_cln['sumArea']})\n",
        "alt.Chart(ts, width=1000).mark_area().encode(x='date', y='sumArea', color='Day').properties(title='시간에 따른 '+iceberg_name +' 빙하 면적 그래프')"
      ],
      "metadata": {
        "id": "rRTq5wdLSh81"
      },
      "execution_count": null,
      "outputs": []
    },
    {
      "cell_type": "markdown",
      "source": [
        "\n",
        "*그래프 해석*\n",
        "*   2021년 8월까지 일정치를 유지하다가 8월 중순 경에 급격한 감소를 보인다\n",
        "*   전체적인 추세를 살펴보면 2021년 8월 중순 경, 2022년 1월 중순 경 큰 변화가 보인다\n",
        "*   큰 변화를 나타낸 시점의 데이터만 세부 분석을 진행한다 (2021-08월, 2021-11월, 2022-01월)\n",
        "\n"
      ],
      "metadata": {
        "id": "ae4KaHdBh_Qw"
      }
    },
    {
      "cell_type": "markdown",
      "source": [
        "#### 2) 전체 시계열 데이터에서 변화가 나타난 시점 세부 분석"
      ],
      "metadata": {
        "id": "5X4DAAALauP7"
      }
    },
    {
      "cell_type": "markdown",
      "source": [
        "\n",
        "\n",
        "> 2021년 8월 데이터\n",
        "\n"
      ],
      "metadata": {
        "id": "a62HFV-wkNGC"
      }
    },
    {
      "cell_type": "code",
      "source": [
        "iceberg_name = 'A77'\n",
        "month = 8; year=2021  # check\n",
        "cond =  (images_df_cln['Month']==month) & (images_df_cln['Year']==year)\n",
        "# 조건(cond)에 해당하는 데이터만 추출\n",
        "ts = pd.DataFrame({'date': images_df_cln[cond]['Timestamp'], 'sumArea': images_df_cln['sumArea']})\n",
        "alt.Chart(ts,width=500).mark_line().encode(x=alt.X('date'), y=alt.Y('sumArea')).properties(title='시간에 따른 '+iceberg_name +' 빙하 면적 그래프 '+str(year)+'년 '+str(month)+'월 ')"
      ],
      "metadata": {
        "id": "Rn8i11nEX8iT"
      },
      "execution_count": null,
      "outputs": []
    },
    {
      "cell_type": "markdown",
      "source": [
        "\n",
        "\n",
        "*   2021년 8월 11일에서 17일 사이에 빙하 면적 감소함\n",
        "\n"
      ],
      "metadata": {
        "id": "B6cEnPRRjXyS"
      }
    },
    {
      "cell_type": "markdown",
      "source": [
        "\n",
        "\n",
        "> 2021년 11월 데이터\n",
        "\n"
      ],
      "metadata": {
        "id": "aJKidPDgkVTB"
      }
    },
    {
      "cell_type": "code",
      "source": [
        "iceberg_name = 'A77'\n",
        "month = 11; year=2021  # check\n",
        "cond =  (images_df_cln['Month']==month) & (images_df_cln['Year']==year)\n",
        "# 조건(cond)에 해당하는 데이터만 추출\n",
        "ts = pd.DataFrame({'date': images_df_cln[cond]['Timestamp'], 'sumArea': images_df_cln['sumArea']})\n",
        "alt.Chart(ts,width=500).mark_line().encode(x=alt.X('date'), y=alt.Y('sumArea')).properties(title='시간에 따른 '+iceberg_name +' 빙하 면적 그래프 '+str(year)+'년 '+str(month)+'월 ')"
      ],
      "metadata": {
        "id": "04xpJrHbcJrx"
      },
      "execution_count": null,
      "outputs": []
    },
    {
      "cell_type": "markdown",
      "source": [
        "\n",
        "\n",
        "*   2021년 11월 15일 이후 27일까지 빙하 면적 증가\n",
        "\n"
      ],
      "metadata": {
        "id": "t9mDP64deQP_"
      }
    },
    {
      "cell_type": "markdown",
      "source": [
        "\n",
        "\n",
        "> 2022년 1월 데이터\n",
        "\n"
      ],
      "metadata": {
        "id": "ltWEM2WakfbL"
      }
    },
    {
      "cell_type": "code",
      "source": [
        "iceberg_name = 'A77'\n",
        "month = 1; year=2022  # check\n",
        "cond =  (images_df_cln['Month']==month) & (images_df_cln['Year']==year)\n",
        "# 조건(cond)에 해당하는 데이터만 추출\n",
        "ts = pd.DataFrame({'date': images_df_cln[cond]['Timestamp'], 'sumArea': images_df_cln['sumArea']})\n",
        "alt.Chart(ts,width=500).mark_line().encode(x=alt.X('date'), y=alt.Y('sumArea')).properties(title='시간에 따른 '+iceberg_name +' 빙하 면적 그래프 '+str(year)+'년 '+str(month)+'월 ')"
      ],
      "metadata": {
        "id": "vAAK2lzSedYx"
      },
      "execution_count": null,
      "outputs": []
    },
    {
      "cell_type": "markdown",
      "source": [
        "\n",
        "\n",
        "*   2022년 1월 14일 쯤에 면적이 거의 0에 수렴하게 감소\n"
      ],
      "metadata": {
        "id": "Dh-meQTwekQ1"
      }
    },
    {
      "cell_type": "markdown",
      "source": [
        "#### 3) 해당 시점의 Sentinel-1 원본 이미지 시각화하여 확인"
      ],
      "metadata": {
        "id": "pWaEbHuQevK7"
      }
    },
    {
      "cell_type": "markdown",
      "source": [
        "\n",
        "\n",
        "\n",
        "##### 2021년 8월 16일\n",
        ">  빙하 면적 감소 현상\n"
      ],
      "metadata": {
        "id": "_VR7mowfhEha"
      }
    },
    {
      "cell_type": "code",
      "source": [
        "# 2021년 8월 16일 즈음의 Sentinel-1 이미지\n",
        "start = ee.Date('2021-08-16')\n",
        "end = ee.Date('2021-08-17') \n",
        "\n",
        "# Sentinel-1 SAR 이미지 가져오기\n",
        "image0817 = (ee.ImageCollection('COPERNICUS/S1_GRD')      # changing your image variable name\n",
        "    .filterDate(start, end)\n",
        "    .filterDate(start, end)\n",
        "    .filterBounds(roi)\n",
        "    .filter(ee.Filter.listContains('transmitterReceiverPolarisation', 'HH'))\n",
        "    .select('HH')\n",
        "    .mean()\n",
        "    .clip(roi))\n",
        "\n",
        "# shapefile (.shp)을 이용하여 roi (region of interest) 설정하기\n",
        "shp = ee.FeatureCollection('projects/ee-jieun/assets/A77') # check\n",
        "coor = shp.geometry().getInfo()['coordinates']\n",
        "roi = ee.Geometry.Polygon(coor)\n",
        "\n",
        "# Create a folium map object.\n",
        "map = folium.Map(location=[-70.6108, -9.4135], zoom_start = 8)\n",
        "\n",
        "# Add the layer to the map object.\n",
        "map.add_ee_layer(image0817, {'min': [-22], 'max': [2]}, 'HH')    # changing your image variable name\n",
        "\n",
        "# Add a layer control panel to the map\n",
        "map.add_child(folium.LayerControl())\n",
        "\n",
        "# Display the map.\n",
        "display(map)"
      ],
      "metadata": {
        "id": "vuMLsi4NuE_4"
      },
      "execution_count": null,
      "outputs": []
    },
    {
      "cell_type": "code",
      "source": [
        "# 빙하 (glacier)와 해양을 구별한 후 시각화하기\n",
        "disc = -7    # 기준값\n",
        "image_mask = image0817.gt(disc)       #changing your image variable name\n",
        "\n",
        "# Import the Folium library.\n",
        "import folium\n",
        "\n",
        "# Add EE drawing method to folium.\n",
        "folium.Map.add_ee_layer = add_ee_layer\n",
        "\n",
        "# Create a folium map object.\n",
        "map = folium.Map(location=[-70.6108, -9.4135], zoom_start = 9)\n",
        "\n",
        "# Add the layer to the map object.\n",
        "map.add_ee_layer(image_mask, {'min': [0], 'max': [1]}, 'HH')\n",
        "\n",
        "# Add a layer control panel to the map\n",
        "map.add_child(folium.LayerControl())\n",
        "\n",
        "# Display the map.\n",
        "display(map)"
      ],
      "metadata": {
        "id": "pwesP9I8l5bw"
      },
      "execution_count": null,
      "outputs": []
    },
    {
      "cell_type": "markdown",
      "source": [
        "\n",
        "\n",
        "*   분석 결과, 빙하가 실제로 떨어져 나간 것을 확인할 수 있다\n",
        "\n"
      ],
      "metadata": {
        "id": "pJMGCay1gXYP"
      }
    },
    {
      "cell_type": "markdown",
      "source": [
        "\n",
        "\n",
        "##### 2021년 11월 27일 \n",
        "> 빙하 면적 증가 현상\n",
        "\n"
      ],
      "metadata": {
        "id": "f3sZLYUfhUaq"
      }
    },
    {
      "cell_type": "code",
      "source": [
        "# 2021년 11월 27일의 Sentinel-1 이미지 \n",
        "start = ee.Date('2021-11-26')\n",
        "end = ee.Date('2021-11-27')\n",
        "\n",
        "# Sentinel-1 SAR 이미지 가져오기\n",
        "image1127 = (ee.ImageCollection('COPERNICUS/S1_GRD')     # changing your image variable name\n",
        "    .filterDate(start, end)\n",
        "    .filterBounds(roi)\n",
        "    .filter(ee.Filter.listContains('transmitterReceiverPolarisation', 'HH'))\n",
        "    .select('HH')\n",
        "    .mean()\n",
        "    .clip(roi))\n",
        "\n",
        "# shapefile (.shp)을 이용하여 roi (region of interest) 설정하기\n",
        "shp = ee.FeatureCollection('projects/ee-jieun/assets/A77') # check\n",
        "coor = shp.geometry().getInfo()['coordinates']\n",
        "roi = ee.Geometry.Polygon(coor)\n",
        "\n",
        "# Create a folium map object.\n",
        "map = folium.Map(location=[-70.6108, -9.4135], zoom_start = 8)\n",
        "\n",
        "# Add the layer to the map object.\n",
        "map.add_ee_layer(image1127, {'min': [-22], 'max': [2]}, 'HH')    # changing your image variable name\n",
        "\n",
        "# Add a layer control panel to the map\n",
        "map.add_child(folium.LayerControl())\n",
        "\n",
        "# Display the map.\n",
        "display(map)"
      ],
      "metadata": {
        "id": "p-VZWJhZgd5H"
      },
      "execution_count": null,
      "outputs": []
    },
    {
      "cell_type": "code",
      "source": [
        "# 빙하 (glacier)와 해양을 구별한 후 시각화하기\n",
        "disc = -7     # 기준값\n",
        "image_mask = image1127.gt(disc)       #changing your image variable name\n",
        "\n",
        "# Import the Folium library.\n",
        "import folium\n",
        "\n",
        "# Add EE drawing method to folium.\n",
        "folium.Map.add_ee_layer = add_ee_layer\n",
        "\n",
        "# Create a folium map object.\n",
        "map = folium.Map(location=[-70.6108, -9.4135], zoom_start = 9)\n",
        "\n",
        "# Add the layer to the map object.\n",
        "map.add_ee_layer(image_mask, {'min': [0], 'max': [1]}, 'HH')\n",
        "\n",
        "# Add a layer control panel to the map\n",
        "map.add_child(folium.LayerControl())\n",
        "\n",
        "# Display the map.\n",
        "display(map)"
      ],
      "metadata": {
        "id": "dRiwaz6ehfIy"
      },
      "execution_count": null,
      "outputs": []
    },
    {
      "cell_type": "markdown",
      "source": [
        "\n",
        "\n",
        "*   분석 결과, 주변에 있는 얼음까지 면적을 같이 계산하였기 때문에 그래프 상에서 빙하면적이 증가되어 나타난 것이다\n",
        "\n"
      ],
      "metadata": {
        "id": "0yi0LFihhiw9"
      }
    },
    {
      "cell_type": "markdown",
      "source": [
        "\n",
        "\n",
        "##### 2022년 1월 14일 \n",
        "> 빙하 면적 0에 수렴하게 감소 현상\n",
        "\n"
      ],
      "metadata": {
        "id": "NjYhSNrZh-sA"
      }
    },
    {
      "cell_type": "code",
      "source": [
        "# 2022년 1월 14일 경의 Sentinel-1 이미지 \n",
        "start = ee.Date('2022-01-13')\n",
        "end = ee.Date('2022-01-14')\n",
        "\n",
        "# Sentinel-1 SAR 이미지 가져오기\n",
        "image0114 = (ee.ImageCollection('COPERNICUS/S1_GRD')     # changing your image variable name\n",
        "    .filterDate(start, end)\n",
        "    .filterBounds(roi)\n",
        "    .filter(ee.Filter.listContains('transmitterReceiverPolarisation', 'HH'))\n",
        "    .select('HH')\n",
        "    .mean()\n",
        "    .clip(roi))\n",
        "\n",
        "# shapefile (.shp)을 이용하여 roi (region of interest) 설정하기\n",
        "shp = ee.FeatureCollection('projects/ee-jieun/assets/A77') # check\n",
        "coor = shp.geometry().getInfo()['coordinates']\n",
        "roi = ee.Geometry.Polygon(coor)\n",
        "\n",
        "# Create a folium map object.\n",
        "map = folium.Map(location=[-70.6108, -9.4135], zoom_start = 8)\n",
        "\n",
        "# Add the layer to the map object.\n",
        "map.add_ee_layer(image0114, {'min': [-22], 'max': [2]}, 'HH')    # changing your image variable name\n",
        "\n",
        "# Add a layer control panel to the map\n",
        "map.add_child(folium.LayerControl())\n",
        "\n",
        "# Display the map.\n",
        "display(map)"
      ],
      "metadata": {
        "id": "1kj0iFbsiF6H"
      },
      "execution_count": null,
      "outputs": []
    },
    {
      "cell_type": "code",
      "source": [
        "# 빙하 (glacier)와 해양을 구별한 후 시각화하기\n",
        "disc = -7  # 기준값\n",
        "image_mask = image0114.gt(disc)       #changing your image variable name\n",
        "\n",
        "# Import the Folium library.\n",
        "import folium\n",
        "\n",
        "# Add EE drawing method to folium.\n",
        "folium.Map.add_ee_layer = add_ee_layer\n",
        "\n",
        "# Create a folium map object.\n",
        "map = folium.Map(location=[-70.6108, -9.4135], zoom_start = 9)\n",
        "\n",
        "# Add the layer to the map object.\n",
        "map.add_ee_layer(image_mask, {'min': [0], 'max': [1]}, 'HH')\n",
        "\n",
        "# Add a layer control panel to the map\n",
        "map.add_child(folium.LayerControl())\n",
        "\n",
        "# Display the map.\n",
        "display(map)"
      ],
      "metadata": {
        "id": "zlmElBuninZy"
      },
      "execution_count": null,
      "outputs": []
    },
    {
      "cell_type": "markdown",
      "source": [
        "\n",
        "\n",
        "*   분석 결과, 기준값(-7)이 빙하를 제대로 구분하지 못하여 빙하 면적을 0으로 계산하였다\n",
        "\n"
      ],
      "metadata": {
        "id": "8hZB5Xtzis-y"
      }
    },
    {
      "cell_type": "markdown",
      "source": [
        "#### 4) 이상치 제거 후 시계열 그래프 다시 보기"
      ],
      "metadata": {
        "id": "ymEGEShDzq_2"
      }
    },
    {
      "cell_type": "markdown",
      "source": [
        "\n",
        "\n",
        "> 이상치 제거하여 데이터셋 전처리\n",
        "\n"
      ],
      "metadata": {
        "id": "QDZUUwSb3w9h"
      }
    },
    {
      "cell_type": "code",
      "source": [
        "# 2021년 11월 27일 증가한 sumArea 데이터와 2022년 1월 감소한 sumArea 데이터 확인\n",
        "images_df_cln[(images_df_cln['Month']==11) | ((images_df_cln['Year']==2022) & (images_df_cln['Month']==1))]"
      ],
      "metadata": {
        "id": "GMEjJcqh08hF"
      },
      "execution_count": null,
      "outputs": []
    },
    {
      "cell_type": "code",
      "source": [
        "# index = 49,50,55 데이터 제거\n",
        "index = [49,50,55]\n",
        "images_df_pro = images_df_cln.drop(index, axis=0)\n",
        "images_df_pro"
      ],
      "metadata": {
        "id": "5b8uMMUBz148"
      },
      "execution_count": null,
      "outputs": []
    },
    {
      "cell_type": "markdown",
      "source": [
        "\n",
        "\n",
        "> **전처리 한 후 최종 그래프**\n",
        "\n"
      ],
      "metadata": {
        "id": "GdMfB3ns31Sf"
      }
    },
    {
      "cell_type": "code",
      "source": [
        "# 최종그래프\n",
        "iceberg_name = 'A77'\n",
        "ts_pro = pd.DataFrame({'date': images_df_pro['Timestamp'], 'sumArea': images_df_pro['sumArea']})\n",
        "alt.Chart(ts_pro, width=1000).mark_line().encode(x='date', y='sumArea').properties(title='시간에 따른 '+iceberg_name +' 빙하 면적 그래프')"
      ],
      "metadata": {
        "id": "T1L9Eur314GP"
      },
      "execution_count": null,
      "outputs": []
    }
  ]
}
